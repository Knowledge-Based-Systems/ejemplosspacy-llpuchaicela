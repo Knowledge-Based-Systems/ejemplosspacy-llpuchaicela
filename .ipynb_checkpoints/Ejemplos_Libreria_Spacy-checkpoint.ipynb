{
 "cells": [
  {
   "cell_type": "markdown",
   "id": "6ee4fcee",
   "metadata": {},
   "source": [
    "# << Libreria Spacy >>"
   ]
  },
  {
   "cell_type": "markdown",
   "id": "ee8773e8",
   "metadata": {},
   "source": [
    "### Lenguajes en spacy\n"
   ]
  },
  {
   "cell_type": "code",
   "execution_count": 35,
   "id": "9f5251b7",
   "metadata": {},
   "outputs": [],
   "source": [
    "#Importar spacy\n",
    "import spacy"
   ]
  },
  {
   "cell_type": "code",
   "execution_count": 36,
   "id": "d08814f5",
   "metadata": {},
   "outputs": [],
   "source": [
    "#Crea el objeto nlp para procesar  en frances fr, ingles en, español es,. etc\n",
    "nlp = spacy.blank(\"fr\")"
   ]
  },
  {
   "cell_type": "code",
   "execution_count": 37,
   "id": "169f2027",
   "metadata": {},
   "outputs": [],
   "source": [
    "#Proceso el texto en el idioma mencionado\n",
    "doc = nlp(\"Bonjour, comment alle vouz\")"
   ]
  },
  {
   "cell_type": "code",
   "execution_count": 38,
   "id": "87851702",
   "metadata": {},
   "outputs": [
    {
     "name": "stdout",
     "output_type": "stream",
     "text": [
      "Bonjour, comment alle vouz\n"
     ]
    }
   ],
   "source": [
    "#Imprime en pantalla el texto del documento\n",
    "print(doc.text)"
   ]
  },
  {
   "cell_type": "markdown",
   "id": "9947f436",
   "metadata": {},
   "source": [
    "### Documentos, spans y tokens"
   ]
  },
  {
   "cell_type": "code",
   "execution_count": 47,
   "id": "add37b5d",
   "metadata": {},
   "outputs": [],
   "source": [
    "nlp1= spacy.blank(\"es\")\n",
    "doc1 = nlp1(\"Me gustasn los lobos salvajes y los tiburones asesinos\")"
   ]
  },
  {
   "cell_type": "code",
   "execution_count": 51,
   "id": "84cb4a9f",
   "metadata": {},
   "outputs": [],
   "source": [
    "#Selecciona el primer token\n",
    "\n",
    "# first_token=doc1[7]\n",
    " \n",
    "first_token=doc1[3:7]"
   ]
  },
  {
   "cell_type": "code",
   "execution_count": 53,
   "id": "c2001606",
   "metadata": {},
   "outputs": [
    {
     "name": "stdout",
     "output_type": "stream",
     "text": [
      "lobos salvajes y los\n"
     ]
    }
   ],
   "source": [
    "#Imprime en pantalla el texto del token\n",
    "print(first_token.text)"
   ]
  },
  {
   "cell_type": "markdown",
   "id": "763a1fa2",
   "metadata": {},
   "source": [
    "#  Atributos léxicos"
   ]
  },
  {
   "cell_type": "markdown",
   "id": "b517c6d4",
   "metadata": {},
   "source": [
    "#### Se usaran los objetos doc y token con los que se encontraran porcentajes de texto secuentes de un porcentaje y numero."
   ]
  },
  {
   "cell_type": "code",
   "execution_count": 54,
   "id": "56bf59a2",
   "metadata": {},
   "outputs": [],
   "source": [
    "nlp2 = spacy.blank(\"es\")"
   ]
  },
  {
   "cell_type": "code",
   "execution_count": 65,
   "id": "8847b999",
   "metadata": {},
   "outputs": [],
   "source": [
    "# Procesa el texto\n",
    "doc2 = nlp2(\n",
    "    \"En 1990, más del 60 % de las personas en Asia del Este se encontraban \"\n",
    "    \"en extrema pobreza. Ahora, menos del 4 % lo están.\"\n",
    ")"
   ]
  },
  {
   "cell_type": "code",
   "execution_count": 66,
   "id": "ddbb7b91",
   "metadata": {
    "scrolled": true
   },
   "outputs": [
    {
     "name": "stdout",
     "output_type": "stream",
     "text": [
      "Numero encontrado : 60 antes del porcentaje\n",
      "Numero encontrado : 4 antes del porcentaje\n"
     ]
    }
   ],
   "source": [
    "# Itera sobre los tokens en el doc\n",
    "for token in doc:\n",
    "    # Revisa si el token parece un número\n",
    "    if token.like_num:\n",
    "        # Obtén el próximo token en el documento\n",
    "        next_token = doc[token.i + 1]\n",
    "        # Revisa si el texto del siguiente token es igual a '%'\n",
    "        if next_token.text == \"%\":\n",
    "            print(\"Numero encontrado :\", token.text, \"antes del porcentaje\")"
   ]
  },
  {
   "cell_type": "code",
   "execution_count": 73,
   "id": "1ffcd663",
   "metadata": {},
   "outputs": [],
   "source": [
    "#Carga el pipeline pequeño de español\n",
    "nlp3= spacy.load(\"es_core_news_sm\")\n",
    "# Procesa un texto \n",
    "doc3 = nlp(\"Ella comió pizza\")"
   ]
  },
  {
   "cell_type": "code",
   "execution_count": 74,
   "id": "7b8cbcff",
   "metadata": {},
   "outputs": [
    {
     "name": "stdout",
     "output_type": "stream",
     "text": [
      "Ella   Ella\n",
      "comió   comió\n",
      "pizza   pizza\n"
     ]
    }
   ],
   "source": [
    "# Itera sobre los tokens\n",
    "for token in doc3:\n",
    "    # Imprime el texto y la etiqueta gramatical predicha\n",
    "    print(token.text, token.pos_, token.dep_, token.head.text)"
   ]
  }
 ],
 "metadata": {
  "kernelspec": {
   "display_name": "Python 3",
   "language": "python",
   "name": "python3"
  },
  "language_info": {
   "codemirror_mode": {
    "name": "ipython",
    "version": 3
   },
   "file_extension": ".py",
   "mimetype": "text/x-python",
   "name": "python",
   "nbconvert_exporter": "python",
   "pygments_lexer": "ipython3",
   "version": "3.10.2"
  }
 },
 "nbformat": 4,
 "nbformat_minor": 5
}
