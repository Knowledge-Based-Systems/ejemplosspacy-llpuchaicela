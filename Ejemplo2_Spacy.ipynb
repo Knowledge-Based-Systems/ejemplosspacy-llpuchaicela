{
 "cells": [
  {
   "cell_type": "markdown",
   "id": "c672a0e9",
   "metadata": {},
   "source": [
    "# Ejemplos2 Spacys "
   ]
  },
  {
   "cell_type": "markdown",
   "id": "c75f9f3b",
   "metadata": {},
   "source": [
    "## Prediciendo anotaciones lingüísticas"
   ]
  },
  {
   "cell_type": "markdown",
   "id": "edcd8fd3",
   "metadata": {},
   "source": [
    "##### Averiguar lo que cada tag o label significa puede llamar a spacy.explain en el loop "
   ]
  },
  {
   "cell_type": "code",
   "execution_count": 32,
   "id": "ee29772f",
   "metadata": {},
   "outputs": [],
   "source": [
    "import spacy"
   ]
  },
  {
   "cell_type": "code",
   "execution_count": 33,
   "id": "bef97c9c",
   "metadata": {},
   "outputs": [],
   "source": [
    "nlp = spacy.load(\"es_core_news_sm\")"
   ]
  },
  {
   "cell_type": "code",
   "execution_count": 51,
   "id": "15962cb1",
   "metadata": {},
   "outputs": [],
   "source": [
    "text=(\n",
    "    \"El canto de las sirenas lo traspasaba todo la pasión de los seducidos habría\"\n",
    "    \"hecho saltar prisiones más fuertes que mástiles y cadenas\"\n",
    "    \" Ulises no pensó en eso.\"\n",
    ")"
   ]
  },
  {
   "cell_type": "code",
   "execution_count": 52,
   "id": "49a3fc8c",
   "metadata": {},
   "outputs": [],
   "source": [
    "# Procesar el texto\n",
    "doc = nlp(text)"
   ]
  },
  {
   "cell_type": "code",
   "execution_count": 53,
   "id": "a3c12e5b",
   "metadata": {},
   "outputs": [
    {
     "name": "stdout",
     "output_type": "stream",
     "text": [
      "El          DET         det         \n",
      "canto       NOUN        iobj        \n",
      "de          ADP         case        \n",
      "las         DET         det         \n",
      "sirenas     NOUN        nmod        \n",
      "lo          PRON        obj         \n",
      "traspasaba  VERB        ROOT        \n",
      "todo        DET         det         \n",
      "la          DET         det         \n",
      "pasión      NOUN        obj         \n",
      "de          ADP         case        \n",
      "los         DET         det         \n",
      "seducidos   ADJ         nmod        \n",
      "habríahecho ADJ         amod        \n",
      "saltar      VERB        advcl       \n",
      "prisiones   NOUN        obj         \n",
      "más         ADV         advmod      \n",
      "fuertes     ADJ         amod        \n",
      "que         SCONJ       mark        \n",
      "mástiles    ADJ         amod        \n",
      "y           CCONJ       cc          \n",
      "cadenas     NOUN        conj        \n",
      "Ulises      PROPN       appos       \n",
      "no          ADV         advmod      \n",
      "pensó       VERB        conj        \n",
      "en          ADP         case        \n",
      "eso         PRON        obl         \n",
      ".           PUNCT       punct       \n"
     ]
    }
   ],
   "source": [
    "for token in doc:\n",
    "    # Obtiene el texto del token, el part-of-spech tag y el dependency label \n",
    "    token_text = token.text\n",
    "    token_pos= token.pos_\n",
    "    token_dep= token.dep_\n",
    "    # Esto es un formato\n",
    "    print(f\"{token_text:<12}{token_pos:<12}{token_dep:<12}\")"
   ]
  },
  {
   "cell_type": "code",
   "execution_count": 54,
   "id": "5e303bc3",
   "metadata": {},
   "outputs": [
    {
     "name": "stdout",
     "output_type": "stream",
     "text": [
      "Ulises PER\n"
     ]
    }
   ],
   "source": [
    "# Itera sobre entidades predichas\n",
    "for ent in doc.ents:\n",
    "    # Imprime el texto de la entidad y su etiqueta \n",
    "    print(ent.text, ent.label_)"
   ]
  },
  {
   "cell_type": "markdown",
   "id": "5f1b7ec5",
   "metadata": {},
   "source": [
    "### Prediciendo entidades nombradas en contexto"
   ]
  },
  {
   "cell_type": "markdown",
   "id": "73af47fb",
   "metadata": {},
   "source": [
    "##### Itera entidades e imprime la entidad y su etiqueta "
   ]
  },
  {
   "cell_type": "code",
   "execution_count": 72,
   "id": "d17b8d5c",
   "metadata": {},
   "outputs": [
    {
     "name": "stdout",
     "output_type": "stream",
     "text": [
      "Olímpicos MISC\n",
      "Tokio 2020 MISC\n",
      "Entidad faltante :  adidas zx\n"
     ]
    }
   ],
   "source": [
    "text1=(\n",
    "    \"Los Olímpicos de Tokio 2020 son la inspiración para la nueva \"\n",
    "    \"colección de zapatillas adidas zx.\"\n",
    ")\n",
    "# Procesa el texto\n",
    "doc1 = nlp(text1)\n",
    "\n",
    "# Itera sobre las entidades\n",
    "for ent in doc1.ents:\n",
    "    # Imprime en pantalla el texto de la entidad y su etiqueta\n",
    "    print(ent.text, ent.label_)\n",
    "# Obtiene el span para \"  adidas_zx \"\n",
    "adidas_zx = doc1[14:16]\n",
    "print(\"Entidad faltante : \", adidas_zx.text)"
   ]
  }
 ],
 "metadata": {
  "kernelspec": {
   "display_name": "Python 3",
   "language": "python",
   "name": "python3"
  },
  "language_info": {
   "codemirror_mode": {
    "name": "ipython",
    "version": 3
   },
   "file_extension": ".py",
   "mimetype": "text/x-python",
   "name": "python",
   "nbconvert_exporter": "python",
   "pygments_lexer": "ipython3",
   "version": "3.10.2"
  }
 },
 "nbformat": 4,
 "nbformat_minor": 5
}
